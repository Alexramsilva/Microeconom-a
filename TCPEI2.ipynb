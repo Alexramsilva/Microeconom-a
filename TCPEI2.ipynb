{
  "nbformat": 4,
  "nbformat_minor": 0,
  "metadata": {
    "colab": {
      "name": "TCPEI2.ipynb",
      "provenance": []
    },
    "kernelspec": {
      "name": "python3",
      "display_name": "Python 3"
    },
    "language_info": {
      "name": "python"
    }
  },
  "cells": [
    {
      "cell_type": "code",
      "execution_count": 1,
      "metadata": {
        "id": "lJptqQWaVOEC"
      },
      "outputs": [],
      "source": [
        "from sympy import *"
      ]
    },
    {
      "cell_type": "code",
      "source": [
        "Q=symbols('Q')\n",
        "P=100-2.5*Q\n",
        "P\n",
        "\n",
        "TR=P*Q\n",
        "TR\n"
      ],
      "metadata": {
        "colab": {
          "base_uri": "https://localhost:8080/",
          "height": 38
        },
        "id": "C0WQKqixXGWw",
        "outputId": "78b13c72-9fac-4b0b-d619-9f5bf54d8987"
      },
      "execution_count": 2,
      "outputs": [
        {
          "output_type": "execute_result",
          "data": {
            "text/plain": [
              "Q*(100 - 2*Q)"
            ],
            "text/latex": "$\\displaystyle Q \\left(100 - 2 Q\\right)$"
          },
          "metadata": {},
          "execution_count": 2
        }
      ]
    },
    {
      "cell_type": "code",
      "source": [
        "diff(TR,Q)\n"
      ],
      "metadata": {
        "colab": {
          "base_uri": "https://localhost:8080/",
          "height": 38
        },
        "id": "4s0Bhe7yXgWS",
        "outputId": "abb14431-c017-42c3-8b54-101e74573d38"
      },
      "execution_count": 3,
      "outputs": [
        {
          "output_type": "execute_result",
          "data": {
            "text/plain": [
              "100 - 4*Q"
            ],
            "text/latex": "$\\displaystyle 100 - 4 Q$"
          },
          "metadata": {},
          "execution_count": 3
        }
      ]
    },
    {
      "cell_type": "code",
      "source": [
        "plot(TR, (Q,0,50), ylim=(0, 1500), xlim=(0,55), title='Revenue', xlabel='Quantity', ylabel='Revenue')"
      ],
      "metadata": {
        "colab": {
          "base_uri": "https://localhost:8080/",
          "height": 315
        },
        "id": "4JMOEVx3YkeE",
        "outputId": "a0a1e85f-943a-4afd-be44-39bf9a5ef495"
      },
      "execution_count": 7,
      "outputs": [
        {
          "output_type": "display_data",
          "data": {
            "text/plain": [
              "<Figure size 432x288 with 1 Axes>"
            ],
            "image/png": "[encoded data removed]"
          },
          "metadata": {
            "needs_background": "light"
          }
        },
        {
          "output_type": "execute_result",
          "data": {
            "text/plain": [
              "<sympy.plotting.plot.Plot at 0x7f3ced20b7d0>"
            ]
          },
          "metadata": {},
          "execution_count": 7
        }
      ]
    },
    {
      "cell_type": "code",
      "source": [
        "TC=12500+10*Q+0.05*Q**2\n"
      ],
      "metadata": {
        "id": "AWUrYAkdiVbC"
      },
      "execution_count": 10,
      "outputs": []
    },
    {
      "cell_type": "code",
      "source": [
        ""
      ],
      "metadata": {
        "id": "2k9PIL83iXlM"
      },
      "execution_count": null,
      "outputs": []
    },
    {
      "cell_type": "code",
      "source": [
        "Q=symbols('Q')\n",
        " \n",
        "TC=12500+10*Q+0.05*Q**2\n",
        "P=80\n",
        "MC=diff(TC,Q)\n",
        "MC"
      ],
      "metadata": {
        "colab": {
          "base_uri": "https://localhost:8080/",
          "height": 38
        },
        "id": "TNkvUcdoieYi",
        "outputId": "435fba8c-1f13-40ec-acfa-e9424ccb20c8"
      },
      "execution_count": 40,
      "outputs": [
        {
          "output_type": "execute_result",
          "data": {
            "text/plain": [
              "0.1*Q + 10"
            ],
            "text/latex": "$\\displaystyle 0.1 Q + 10$"
          },
          "metadata": {},
          "execution_count": 40
        }
      ]
    },
    {
      "cell_type": "code",
      "source": [
        "TC=symbols('Q') \n",
        "TC=23.147+29.973*Q-3.6441*Q**2+0.2553*Q**3\n",
        "MC=diff(TC,Q)\n",
        "P=25 \n"
      ],
      "metadata": {
        "id": "Nv4Tz6leKd3k"
      },
      "execution_count": 51,
      "outputs": []
    },
    {
      "cell_type": "code",
      "source": [
        "profit=P*Q-TC\n",
        "solve(diff(profit,Q))\n",
        "\n"
      ],
      "metadata": {
        "colab": {
          "base_uri": "https://localhost:8080/"
        },
        "id": "tdUUqUrQKnX7",
        "outputId": "e97a8d92-a436-4970-a6e7-3b292b14cf32"
      },
      "execution_count": 52,
      "outputs": [
        {
          "output_type": "execute_result",
          "data": {
            "text/plain": [
              "[0.739860082622479, 8.77600360715426]"
            ]
          },
          "metadata": {},
          "execution_count": 52
        }
      ]
    },
    {
      "cell_type": "code",
      "source": [
        "plot(P, MC, TC/Q,(Q,0,20), ylim=(-30,100), xlim=(0,20), xlabel='Q', ylabel='P', label='MC')"
      ],
      "metadata": {
        "colab": {
          "base_uri": "https://localhost:8080/",
          "height": 315
        },
        "id": "yzBbv41jikhk",
        "outputId": "34ef4e12-51ea-4717-a327-d97fa1f3297e"
      },
      "execution_count": 58,
      "outputs": [
        {
          "output_type": "display_data",
          "data": {
            "text/plain": [
              "<Figure size 432x288 with 1 Axes>"
            ],
            "image/png": "[encoded data removed]"
          },
          "metadata": {
            "needs_background": "light"
          }
        },
        {
          "output_type": "execute_result",
          "data": {
            "text/plain": [
              "<sympy.plotting.plot.Plot at 0x7f3ce979b210>"
            ]
          },
          "metadata": {},
          "execution_count": 58
        }
      ]
    },
    {
      "cell_type": "code",
      "source": [
        "plot(TC,(Q,0,20), ylim=(0,1000), xlim=(0,20), title= 'Costo Total', xlabel='Q', ylabel='P')"
      ],
      "metadata": {
        "colab": {
          "base_uri": "https://localhost:8080/",
          "height": 315
        },
        "id": "yeQoCP5AOzyw",
        "outputId": "5ae0d82e-366d-47f4-de23-9bf129478b8f"
      },
      "execution_count": 62,
      "outputs": [
        {
          "output_type": "display_data",
          "data": {
            "text/plain": [
              "<Figure size 432x288 with 1 Axes>"
            ],
            "image/png": "[encoded data removed]"
          },
          "metadata": {
            "needs_background": "light"
          }
        },
        {
          "output_type": "execute_result",
          "data": {
            "text/plain": [
              "<sympy.plotting.plot.Plot at 0x7f3ce9600810>"
            ]
          },
          "metadata": {},
          "execution_count": 62
        }
      ]
    },
    {
      "cell_type": "code",
      "source": [
        "solve(diff(TR,Q))"
      ],
      "metadata": {
        "colab": {
          "base_uri": "https://localhost:8080/"
        },
        "id": "qoNx71OebNWP",
        "outputId": "a6200e1d-a5d2-4ca1-9c54-e75bd368593d"
      },
      "execution_count": 9,
      "outputs": [
        {
          "output_type": "execute_result",
          "data": {
            "text/plain": [
              "[25]"
            ]
          },
          "metadata": {},
          "execution_count": 9
        }
      ]
    }
  ]
}
